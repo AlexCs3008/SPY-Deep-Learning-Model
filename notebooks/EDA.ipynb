{
 "cells": [
  {
   "cell_type": "code",
   "execution_count": 1,
   "id": "b4c5c85b",
   "metadata": {},
   "outputs": [],
   "source": [
    "import numpy as np\n",
    "import pandas as pd\n",
    "import matplotlib.pyplot as plt\n",
    "import seaborn as sns\n",
    "import scipy\n",
    "import sklearn\n",
    "import statsmodels.api as sm\n",
    "import pickle"
   ]
  },
  {
   "cell_type": "code",
   "execution_count": 4,
   "id": "9af7cc8a",
   "metadata": {},
   "outputs": [
    {
     "data": {
      "text/html": [
       "<div>\n",
       "<style scoped>\n",
       "    .dataframe tbody tr th:only-of-type {\n",
       "        vertical-align: middle;\n",
       "    }\n",
       "\n",
       "    .dataframe tbody tr th {\n",
       "        vertical-align: top;\n",
       "    }\n",
       "\n",
       "    .dataframe thead th {\n",
       "        text-align: right;\n",
       "    }\n",
       "</style>\n",
       "<table border=\"1\" class=\"dataframe\">\n",
       "  <thead>\n",
       "    <tr style=\"text-align: right;\">\n",
       "      <th></th>\n",
       "      <th>spy_return_1d</th>\n",
       "      <th>spy_return_5d</th>\n",
       "      <th>spy_rsi_14</th>\n",
       "      <th>spy_price_to_sma20</th>\n",
       "      <th>spy_bb_position</th>\n",
       "      <th>vix_change_1d</th>\n",
       "      <th>spy_volume_ratio_10d</th>\n",
       "      <th>spy_volatility_10d</th>\n",
       "    </tr>\n",
       "    <tr>\n",
       "      <th>Date</th>\n",
       "      <th></th>\n",
       "      <th></th>\n",
       "      <th></th>\n",
       "      <th></th>\n",
       "      <th></th>\n",
       "      <th></th>\n",
       "      <th></th>\n",
       "      <th></th>\n",
       "    </tr>\n",
       "  </thead>\n",
       "  <tbody>\n",
       "    <tr>\n",
       "      <th>2018-03-14</th>\n",
       "      <td>-0.005132</td>\n",
       "      <td>0.009238</td>\n",
       "      <td>57.506144</td>\n",
       "      <td>1.007611</td>\n",
       "      <td>48.310144</td>\n",
       "      <td>0.053823</td>\n",
       "      <td>1.028270</td>\n",
       "      <td>0.009160</td>\n",
       "    </tr>\n",
       "    <tr>\n",
       "      <th>2018-03-15</th>\n",
       "      <td>-0.001090</td>\n",
       "      <td>0.003283</td>\n",
       "      <td>50.506526</td>\n",
       "      <td>1.005518</td>\n",
       "      <td>36.655321</td>\n",
       "      <td>-0.037144</td>\n",
       "      <td>0.890983</td>\n",
       "      <td>0.007378</td>\n",
       "    </tr>\n",
       "    <tr>\n",
       "      <th>2018-03-16</th>\n",
       "      <td>0.001084</td>\n",
       "      <td>-0.012808</td>\n",
       "      <td>44.945449</td>\n",
       "      <td>1.006191</td>\n",
       "      <td>43.006620</td>\n",
       "      <td>-0.047619</td>\n",
       "      <td>1.117816</td>\n",
       "      <td>0.007341</td>\n",
       "    </tr>\n",
       "    <tr>\n",
       "      <th>2018-03-19</th>\n",
       "      <td>-0.013530</td>\n",
       "      <td>-0.024941</td>\n",
       "      <td>44.504899</td>\n",
       "      <td>0.992855</td>\n",
       "      <td>-45.736326</td>\n",
       "      <td>0.203797</td>\n",
       "      <td>1.200650</td>\n",
       "      <td>0.008080</td>\n",
       "    </tr>\n",
       "    <tr>\n",
       "      <th>2018-03-20</th>\n",
       "      <td>0.001700</td>\n",
       "      <td>-0.016930</td>\n",
       "      <td>50.813353</td>\n",
       "      <td>0.994428</td>\n",
       "      <td>-35.952906</td>\n",
       "      <td>-0.043112</td>\n",
       "      <td>0.671339</td>\n",
       "      <td>0.008053</td>\n",
       "    </tr>\n",
       "  </tbody>\n",
       "</table>\n",
       "</div>"
      ],
      "text/plain": [
       "            spy_return_1d  spy_return_5d  spy_rsi_14  spy_price_to_sma20  \\\n",
       "Date                                                                       \n",
       "2018-03-14      -0.005132       0.009238   57.506144            1.007611   \n",
       "2018-03-15      -0.001090       0.003283   50.506526            1.005518   \n",
       "2018-03-16       0.001084      -0.012808   44.945449            1.006191   \n",
       "2018-03-19      -0.013530      -0.024941   44.504899            0.992855   \n",
       "2018-03-20       0.001700      -0.016930   50.813353            0.994428   \n",
       "\n",
       "            spy_bb_position  vix_change_1d  spy_volume_ratio_10d  \\\n",
       "Date                                                               \n",
       "2018-03-14        48.310144       0.053823              1.028270   \n",
       "2018-03-15        36.655321      -0.037144              0.890983   \n",
       "2018-03-16        43.006620      -0.047619              1.117816   \n",
       "2018-03-19       -45.736326       0.203797              1.200650   \n",
       "2018-03-20       -35.952906      -0.043112              0.671339   \n",
       "\n",
       "            spy_volatility_10d  \n",
       "Date                            \n",
       "2018-03-14            0.009160  \n",
       "2018-03-15            0.007378  \n",
       "2018-03-16            0.007341  \n",
       "2018-03-19            0.008080  \n",
       "2018-03-20            0.008053  "
      ]
     },
     "execution_count": 4,
     "metadata": {},
     "output_type": "execute_result"
    }
   ],
   "source": [
    "with open('../data/DataWithLessFeaturesForBaselineModel.pk', 'rb') as f:\n",
    "    data = pickle.load(f)\n",
    "\n",
    "\n",
    "df = pd.DataFrame(data)\n",
    "df.head()"
   ]
  },
  {
   "cell_type": "code",
   "execution_count": 5,
   "id": "3449a38b",
   "metadata": {},
   "outputs": [
    {
     "data": {
      "text/plain": [
       "Index(['spy_return_1d', 'spy_return_5d', 'spy_rsi_14', 'spy_price_to_sma20',\n",
       "       'spy_bb_position', 'vix_change_1d', 'spy_volume_ratio_10d',\n",
       "       'spy_volatility_10d'],\n",
       "      dtype='object')"
      ]
     },
     "execution_count": 5,
     "metadata": {},
     "output_type": "execute_result"
    }
   ],
   "source": [
    "df.columns"
   ]
  }
 ],
 "metadata": {
  "kernelspec": {
   "display_name": "projectEnv",
   "language": "python",
   "name": "python3"
  },
  "language_info": {
   "codemirror_mode": {
    "name": "ipython",
    "version": 3
   },
   "file_extension": ".py",
   "mimetype": "text/x-python",
   "name": "python",
   "nbconvert_exporter": "python",
   "pygments_lexer": "ipython3",
   "version": "3.12.6"
  }
 },
 "nbformat": 4,
 "nbformat_minor": 5
}
